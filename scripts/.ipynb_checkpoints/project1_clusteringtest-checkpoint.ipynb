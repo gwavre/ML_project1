{
 "cells": [
  {
   "cell_type": "code",
   "execution_count": 1,
   "metadata": {},
   "outputs": [],
   "source": [
    "# Useful starting lines\n",
    "%timeit\n",
    "%matplotlib inline\n",
    "import numpy as np\n",
    "import matplotlib.pyplot as plt\n",
    "from implementations import *\n",
    "from preprocessing import *\n",
    "from train_tune import *\n",
    "#from proj1_helpers import *\n",
    "#from preprocessing import *\n",
    "%load_ext autoreload\n",
    "%autoreload 2"
   ]
  },
  {
   "cell_type": "code",
   "execution_count": 2,
   "metadata": {},
   "outputs": [],
   "source": [
    "DATA_TRAIN_PATH = '../data/train.csv'\n",
    "y, tx_train, ids = load_csv_data(DATA_TRAIN_PATH)"
   ]
  },
  {
   "cell_type": "code",
   "execution_count": 3,
   "metadata": {},
   "outputs": [],
   "source": [
    "DATA_TEST_PATH = '../data/test.csv' # TODO: download test data and supply path here \n",
    "_, tX_test, ids_test = load_csv_data(DATA_TEST_PATH)"
   ]
  },
  {
   "cell_type": "markdown",
   "metadata": {},
   "source": [
    "## Load the training data into feature matrix, class labels, and event ids:"
   ]
  },
  {
   "cell_type": "markdown",
   "metadata": {},
   "source": [
    "## Do your thing crazy machine learning thing here :) ..."
   ]
  },
  {
   "cell_type": "markdown",
   "metadata": {},
   "source": [
    "Apparently replace -999 doesn't work properly so far."
   ]
  },
  {
   "cell_type": "code",
   "execution_count": 4,
   "metadata": {},
   "outputs": [
    {
     "name": "stdout",
     "output_type": "stream",
     "text": [
      "Using a test-set. \n",
      " Returning clusterized dataset and indices. \n",
      "\n",
      "Using a training set. \n",
      " Returning clusterized dataset and targets. \n",
      "\n"
     ]
    }
   ],
   "source": [
    "#Clustering\n",
    "test0, i0, test1, i1, test2, i2, test3, i3, =prijetnum_clustering(tX_test)\n",
    "tx0, y0, tx1, y1, tx2, y2, tx3, y3 = prijetnum_clustering(tx_train,y)\n",
    "#Naïve pre-processing.\n",
    "tx0, _, _ = standardize(tx0)\n",
    "tx1, _, _ = standardize(tx1)\n",
    "tx2, _, _ = standardize(tx2)\n",
    "tx3, _, _ = standardize(tx3)\n",
    "\n",
    "tx0 = add_bias(tx0)\n",
    "tx1 = add_bias(tx1)\n",
    "tx2 = add_bias(tx2)\n",
    "tx3 = add_bias(tx3)\n",
    "\n",
    "lambda_ = 3e-4"
   ]
  },
  {
   "cell_type": "code",
   "execution_count": 5,
   "metadata": {},
   "outputs": [
    {
     "name": "stdout",
     "output_type": "stream",
     "text": [
      "Best lambda_0 :  1e-09\n",
      "Best lambda_1 :  1e-09\n",
      "Best lambda_2 :  1e-09\n",
      "Best lambda_3 :  1e-09\n"
     ]
    },
    {
     "data": {
      "text/plain": [
       "[<matplotlib.lines.Line2D at 0x23c40bf1a88>]"
      ]
     },
     "execution_count": 5,
     "metadata": {},
     "output_type": "execute_result"
    },
    {
     "data": {
      "image/png": "[encoded data removed]",
      "text/plain": [
       "<Figure size 432x288 with 1 Axes>"
      ]
     },
     "metadata": {
      "needs_background": "light"
     },
     "output_type": "display_data"
    }
   ],
   "source": [
    "#Prediction with Ridge\n",
    "losses0 = []\n",
    "losses1 = []\n",
    "losses2 = []\n",
    "losses3 = []\n",
    "\n",
    "space = np.logspace(-9,-1,60)\n",
    "for lambda_ in space:\n",
    "    w0, loss0 = ridge_regression(y0, tx0, lambda_)\n",
    "    w1, loss1 = ridge_regression(y1, tx1, lambda_)\n",
    "    w2, loss2 = ridge_regression(y2, tx2, lambda_)\n",
    "    w3, loss3 = ridge_regression(y3, tx3, lambda_)\n",
    "    losses0.append(loss0)\n",
    "    losses1.append(loss1)\n",
    "    losses2.append(loss2)\n",
    "    losses3.append(loss3)\n",
    "    #print(\"Lambda_ :{:7f} \\n Losses : 1) {} \\n 2) {} \\n 3) {} \\n 4) {}\".format(lambda_,loss0,loss1,loss2,loss3))\n",
    "\n",
    "print(\"Best lambda_0 : \",space[np.argmin(losses0)])\n",
    "print(\"Best lambda_1 : \",space[np.argmin(losses1)])\n",
    "print(\"Best lambda_2 : \",space[np.argmin(losses2)])\n",
    "print(\"Best lambda_3 : \",space[np.argmin(losses3)])\n",
    "plt.semilogx(losses0)\n",
    "plt.semilogx(losses1)\n",
    "plt.semilogx(losses2)\n",
    "plt.semilogx(losses3)"
   ]
  },
  {
   "cell_type": "code",
   "execution_count": null,
   "metadata": {},
   "outputs": [],
   "source": [
    "#Getting the best ridge weights (so far on this naïve set without anything)\n",
    "w0_opt, _ = ridge_regression(y0, tx0, space[np.argmin(losses0)])\n",
    "w1_opt, _ = ridge_regression(y1, tx1, space[np.argmin(losses1)])\n",
    "w2_opt, _ = ridge_regression(y2, tx2, space[np.argmin(losses2)])\n",
    "w3_opt, _ = ridge_regression(y3, tx3, space[np.argmin(losses3)])"
   ]
  },
  {
   "cell_type": "code",
   "execution_count": null,
   "metadata": {},
   "outputs": [],
   "source": [
    "##### Testing with Regulog only biased input\n",
    "initial_w = np.random.randn(31,1)\n",
    "ylog0 = convert_label(y0)\n",
    "ylog1 = convert_label(y1)\n",
    "ylog2 = convert_label(y2)\n",
    "ylog3 = convert_label(y3)\n",
    "n_iters = 1500\n",
    "gamma = 1e-5\n",
    "logspace = np.logspace(-9,-1,9)\n",
    "loglosses0 = []\n",
    "loglosses1 = []\n",
    "loglosses2 = []\n",
    "loglosses3 = []\n",
    "\n",
    "for lambda_ in logspace:\n",
    "    wlog0, logloss0, lossgraph0 = reg_logistic_regression(ylog0, tx0, lambda_, \n",
    "                                                          initial_w, n_iters, gamma)\n",
    "    wlog1, logloss1, lossgraph1 = reg_logistic_regression(ylog1, tx1, lambda_, \n",
    "                                                          initial_w, n_iters, gamma)\n",
    "    wlog2, logloss2, lossgraph2 = reg_logistic_regression(ylog2, tx2, lambda_, \n",
    "                                                          initial_w, n_iters, gamma)\n",
    "    wlog3, logloss3, lossgraph3 = reg_logistic_regression(ylog2, tx2, lambda_, \n",
    "                                                          initial_w, n_iters, gamma)\n",
    "    loglosses0.append(logloss0)\n",
    "    loglosses1.append(logloss1)\n",
    "    loglosses2.append(logloss2)\n",
    "    loglosses3.append(logloss3)\n",
    "print(\"Best lambda_0 : \",space[np.argmin(losses0)])\n",
    "print(\"Best lambda_1 : \",space[np.argmin(losses1)])\n",
    "print(\"Best lambda_2 : \",space[np.argmin(losses2)])\n",
    "print(\"Best lambda_3 : \",space[np.argmin(losses3)])\n",
    "plt.semilogx(losses0)\n",
    "plt.semilogx(losses1)\n",
    "plt.semilogx(losses2)\n",
    "plt.semilogx(losses3)"
   ]
  },
  {
   "cell_type": "markdown",
   "metadata": {},
   "source": [
    "## Generate predictions and save ouput in csv format for submission:"
   ]
  },
  {
   "cell_type": "code",
   "execution_count": null,
   "metadata": {
    "collapsed": false,
    "jupyter": {
     "outputs_hidden": false
    }
   },
   "outputs": [],
   "source": [
    "#Preprocessing + Bias\n",
    "test0, _, _ = standardize(test0)\n",
    "test1, _, _ = standardize(test1)\n",
    "test2, _, _ = standardize(test2)\n",
    "test3, _, _ = standardize(test3)\n",
    "test0 = add_bias(test0)\n",
    "test1 = add_bias(test1)\n",
    "test2 = add_bias(test2)\n",
    "test3 = add_bias(test3)"
   ]
  },
  {
   "cell_type": "code",
   "execution_count": null,
   "metadata": {},
   "outputs": [],
   "source": []
  },
  {
   "cell_type": "code",
   "execution_count": null,
   "metadata": {},
   "outputs": [],
   "source": [
    "OUTPUT_PATH = '../output/' # TODO: fill in desired name of output file for submission\n",
    "y_pred = predict_labels_log(w_logstd, tX_test)\n",
    "y_pred_bias = predict_labels_log(w_logstd_b, tX_test_bias)\n",
    "y_reg = predict_labels_log(w_logstdR, tX_test)\n",
    "create_csv_submission(ids_test, y_pred, OUTPUT_PATH+\"logistic.csv\")\n",
    "create_csv_submission(ids_test, y_pred_bias, OUTPUT_PATH+\"logistic_bias.csv\")\n",
    "create_csv_submission(ids_test, y_pred, OUTPUT_PATH+\"reguLog.csv\")"
   ]
  },
  {
   "cell_type": "code",
   "execution_count": null,
   "metadata": {
    "collapsed": true,
    "jupyter": {
     "outputs_hidden": true
    }
   },
   "outputs": [],
   "source": []
  },
  {
   "cell_type": "code",
   "execution_count": null,
   "metadata": {},
   "outputs": [],
   "source": []
  }
 ],
 "metadata": {
  "anaconda-cloud": {},
  "kernelspec": {
   "display_name": "Python 3",
   "language": "python",
   "name": "python3"
  },
  "language_info": {
   "codemirror_mode": {
    "name": "ipython",
    "version": 3
   },
   "file_extension": ".py",
   "mimetype": "text/x-python",
   "name": "python",
   "nbconvert_exporter": "python",
   "pygments_lexer": "ipython3",
   "version": "3.7.5"
  }
 },
 "nbformat": 4,
 "nbformat_minor": 4
}
