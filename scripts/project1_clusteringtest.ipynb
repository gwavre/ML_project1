{
 "cells": [
  {
   "cell_type": "code",
   "execution_count": 34,
   "metadata": {},
   "outputs": [
    {
     "name": "stdout",
     "output_type": "stream",
     "text": [
      "The autoreload extension is already loaded. To reload it, use:\n",
      "  %reload_ext autoreload\n"
     ]
    }
   ],
   "source": [
    "# Useful starting lines\n",
    "%timeit\n",
    "%matplotlib inline\n",
    "import numpy as np\n",
    "import matplotlib.pyplot as plt\n",
    "from implementations import *\n",
    "from preprocessing import *\n",
    "from train_tune import *\n",
    "from visualization import visualization_hist_cluster as viz\n",
    "#from proj1_helpers import *\n",
    "#from preprocessing import *\n",
    "%load_ext autoreload\n",
    "%autoreload 2"
   ]
  },
  {
   "cell_type": "code",
   "execution_count": 35,
   "metadata": {},
   "outputs": [],
   "source": [
    "DATA_TRAIN_PATH = '../data/train.csv'\n",
    "y, tx_train, ids = load_csv_data(DATA_TRAIN_PATH)"
   ]
  },
  {
   "cell_type": "markdown",
   "metadata": {},
   "source": [
    "## Load the training data into feature matrix, class labels, and event ids:"
   ]
  },
  {
   "cell_type": "markdown",
   "metadata": {},
   "source": [
    "## Do your thing crazy machine learning thing here :) ..."
   ]
  },
  {
   "cell_type": "markdown",
   "metadata": {},
   "source": [
    "Apparently replace -999 doesn't work properly so far."
   ]
  },
  {
   "cell_type": "code",
   "execution_count": 29,
   "metadata": {},
   "outputs": [
    {
     "name": "stdout",
     "output_type": "stream",
     "text": [
      "Using a training set. \n",
      " Returning clusterized dataset and targets. \n",
      "\n"
     ]
    }
   ],
   "source": [
    "#Clustering\n",
    "tx0, y0, tx1, y1, tx2, y2, tx3, y3 = prijetnum_clustering(tx_train,y)"
   ]
  },
  {
   "cell_type": "code",
   "execution_count": 33,
   "metadata": {},
   "outputs": [
    {
     "ename": "TypeError",
     "evalue": "visualization_hist_cluster() missing 1 required positional argument: 'header'",
     "output_type": "error",
     "traceback": [
      "\u001b[1;31m---------------------------------------------------------------------------\u001b[0m",
      "\u001b[1;31mTypeError\u001b[0m                                 Traceback (most recent call last)",
      "\u001b[1;32m<ipython-input-33-70bbedaa6e0d>\u001b[0m in \u001b[0;36m<module>\u001b[1;34m()\u001b[0m\n\u001b[1;32m----> 1\u001b[1;33m \u001b[0mviz\u001b[0m\u001b[1;33m(\u001b[0m\u001b[0mtx0\u001b[0m\u001b[1;33m,\u001b[0m\u001b[0mtx1\u001b[0m\u001b[1;33m,\u001b[0m\u001b[0mtx2\u001b[0m\u001b[1;33m,\u001b[0m\u001b[0mtx3\u001b[0m\u001b[1;33m)\u001b[0m\u001b[1;33m\u001b[0m\u001b[1;33m\u001b[0m\u001b[0m\n\u001b[0m",
      "\u001b[1;31mTypeError\u001b[0m: visualization_hist_cluster() missing 1 required positional argument: 'header'"
     ]
    }
   ],
   "source": [
    "histogram_cluster(tx0,tx1,tx2,tx3)"
   ]
  },
  {
   "cell_type": "code",
   "execution_count": 28,
   "metadata": {},
   "outputs": [
    {
     "name": "stdout",
     "output_type": "stream",
     "text": [
      "10 features deleted\n",
      "7 features deleted\n",
      "0 features deleted\n",
      "0 features deleted\n",
      "(99913, 20)\n"
     ]
    }
   ],
   "source": [
    "#Deleting useless feature: \n",
    "tx_df0, idx_tk0 = delete_features(tx0)\n",
    "tx_df1, idx_tk1 = delete_features(tx1)\n",
    "tx_df2, idx_tk2 = delete_features(tx2)\n",
    "tx_df3, idx_tk3 = delete_features(tx3)\n",
    "\n",
    "print(np.shape(tx_df0))\n",
    "#Naïve pre-processing.\n",
    "tx0, _, _ = standardize(tx_df0)\n",
    "tx1, _, _ = standardize(tx_df1)\n",
    "tx2, _, _ = standardize(tx_df2)\n",
    "tx3, _, _ = standardize(tx_df3)\n",
    "\n",
    "tx0 = add_bias(tx0)\n",
    "tx1 = add_bias(tx1)\n",
    "tx2 = add_bias(tx2)\n",
    "tx3 = add_bias(tx3)\n",
    "\n",
    "lambda_ = 3e-4"
   ]
  },
  {
   "cell_type": "code",
   "execution_count": 217,
   "metadata": {},
   "outputs": [
    {
     "name": "stdout",
     "output_type": "stream",
     "text": [
      "Best lambda_0 :  1e-09\n",
      "Best lambda_1 :  1e-09\n",
      "Best lambda_2 :  1e-09\n",
      "Best lambda_3 :  1e-09\n",
      "(21,)\n"
     ]
    },
    {
     "data": {
      "image/png": "[encoded data removed]",
      "text/plain": [
       "<Figure size 432x288 with 1 Axes>"
      ]
     },
     "metadata": {
      "needs_background": "light"
     },
     "output_type": "display_data"
    }
   ],
   "source": [
    "#Prediction with Ridge\n",
    "losses0 = []\n",
    "losses1 = []\n",
    "losses2 = []\n",
    "losses3 = []\n",
    "\n",
    "space = np.logspace(-9,-1,60)\n",
    "for lambda_ in space:\n",
    "    w0, loss0 = ridge_regression(y0, tx0, lambda_)\n",
    "    w1, loss1 = ridge_regression(y1, tx1, lambda_)\n",
    "    w2, loss2 = ridge_regression(y2, tx2, lambda_)\n",
    "    w3, loss3 = ridge_regression(y3, tx3, lambda_)\n",
    "    losses0.append(loss0)\n",
    "    losses1.append(loss1)\n",
    "    losses2.append(loss2)\n",
    "    losses3.append(loss3)\n",
    "    #print(\"Lambda_ :{:7f} \\n Losses : 1) {} \\n 2) {} \\n 3) {} \\n 4) {}\".format(lambda_,loss0,loss1,loss2,loss3))\n",
    "\n",
    "print(\"Best lambda_0 : \",space[np.argmin(losses0)])\n",
    "print(\"Best lambda_1 : \",space[np.argmin(losses1)])\n",
    "print(\"Best lambda_2 : \",space[np.argmin(losses2)])\n",
    "print(\"Best lambda_3 : \",space[np.argmin(losses3)])\n",
    "plt.semilogx(losses0)\n",
    "plt.semilogx(losses1)\n",
    "plt.semilogx(losses2)\n",
    "plt.semilogx(losses3)\n",
    "#Getting the best ridge weights (so far on this naïve set without anything)\n",
    "w0_opt, _ = ridge_regression(y0, tx0, space[np.argmin(losses0)])\n",
    "w1_opt, _ = ridge_regression(y1, tx1, space[np.argmin(losses1)])\n",
    "w2_opt, _ = ridge_regression(y2, tx2, space[np.argmin(losses2)])\n",
    "w3_opt, _ = ridge_regression(y3, tx3, space[np.argmin(losses3)])"
   ]
  },
  {
   "cell_type": "code",
   "execution_count": null,
   "metadata": {},
   "outputs": [],
   "source": [
    "##### Testing with Regulog only biased input\n",
    "initial_w0 = np.random.randn(len(w0_opt),1)\n",
    "initial_w1 = np.random.randn(len(w1_opt),1)\n",
    "initial_w2 = np.random.randn(len(w2_opt),1)\n",
    "initial_w3 = np.random.randn(len(w3_opt),1)\n",
    "\n",
    "ylog0 = convert_label(y0)\n",
    "ylog1 = convert_label(y1)\n",
    "ylog2 = convert_label(y2)\n",
    "ylog3 = convert_label(y3)\n",
    "n_iters = 500\n",
    "gamma = 1e-6\n",
    "logspace = np.logspace(-9,-1,3)\n",
    "\n",
    "loglosses0 = []\n",
    "loglosses1 = []\n",
    "loglosses2 = []\n",
    "loglosses3 = []\n",
    "\n",
    "for lambda_ in logspace:\n",
    "    wlog0, logloss0, lossgraph0 = reg_logistic_regression(ylog0, tx0, lambda_, \n",
    "                                                          initial_w0, n_iters, gamma)\n",
    "    wlog1, logloss1, lossgraph1 = reg_logistic_regression(ylog1, tx1, lambda_, \n",
    "                                                          initial_w1, n_iters, gamma)\n",
    "    wlog2, logloss2, lossgraph2 = reg_logistic_regression(ylog2, tx2, lambda_, \n",
    "                                                          initial_w2, n_iters, gamma)\n",
    "    wlog3, logloss3, lossgraph3 = reg_logistic_regression(ylog2, tx2, lambda_, \n",
    "                                                          initial_w3, n_iters, gamma)\n",
    "    loglosses0.append(logloss0)\n",
    "    loglosses1.append(logloss1)\n",
    "    loglosses2.append(logloss2)\n",
    "    loglosses3.append(logloss3)\n",
    "\n"
   ]
  },
  {
   "cell_type": "code",
   "execution_count": 228,
   "metadata": {},
   "outputs": [],
   "source": [
    "wlog_opt0, _, lossgraph0 = reg_logistic_regression(ylog0,tx0,logspace[np.argmin(loglosses0)], initial_w0,1500,3e-6)\n",
    "wlog_opt1, _, lossgraph1 = reg_logistic_regression(ylog1,tx1,logspace[np.argmin(loglosses1)], initial_w1,1500,3e-6)    \n",
    "wlog_opt2, _, lossgraph2 = reg_logistic_regression(ylog2,tx2,logspace[np.argmin(loglosses2)], initial_w2,1500,1e-5)    \n",
    "wlog_opt3, _, lossgraph3 = reg_logistic_regression(ylog3,tx3,logspace[np.argmin(loglosses3)], initial_w3,1500,1e-5)"
   ]
  },
  {
   "cell_type": "code",
   "execution_count": 223,
   "metadata": {},
   "outputs": [
    {
     "data": {
      "text/plain": [
       "Text(0.5, 1.0, 'lossgraph for cluster 3')"
      ]
     },
     "execution_count": 223,
     "metadata": {},
     "output_type": "execute_result"
    },
    {
     "data": {
      "image/png": "[encoded data removed]",
      "text/plain": [
       "<Figure size 720x576 with 4 Axes>"
      ]
     },
     "metadata": {
      "needs_background": "light"
     },
     "output_type": "display_data"
    }
   ],
   "source": [
    "fig, axes = plt.subplots(2,2,figsize=(10,8),sharex =True)\n",
    "ax = axes.ravel()\n",
    "ax[0].plot(lossgraph0)\n",
    "ax[1].plot(lossgraph1)\n",
    "ax[2].plot(lossgraph2)\n",
    "ax[3].plot(lossgraph3)\n",
    "ax[0].set_title(\"lossgraph for cluster 0\")\n",
    "ax[1].set_title(\"lossgraph for cluster 1\")\n",
    "ax[2].set_title(\"lossgraph for cluster 2\")\n",
    "ax[3].set_title(\"lossgraph for cluster 3\")"
   ]
  },
  {
   "cell_type": "markdown",
   "metadata": {},
   "source": [
    "## Generate predictions and save ouput in csv format for submission:"
   ]
  },
  {
   "cell_type": "code",
   "execution_count": 224,
   "metadata": {},
   "outputs": [
    {
     "ename": "OSError",
     "evalue": "../data/test.csv not found.",
     "output_type": "error",
     "traceback": [
      "\u001b[1;31m---------------------------------------------------------------------------\u001b[0m",
      "\u001b[1;31mOSError\u001b[0m                                   Traceback (most recent call last)",
      "\u001b[1;32m<ipython-input-224-cb1c40bc2ee1>\u001b[0m in \u001b[0;36m<module>\u001b[1;34m\u001b[0m\n\u001b[0;32m      1\u001b[0m \u001b[1;31m#Getting test-data\u001b[0m\u001b[1;33m\u001b[0m\u001b[1;33m\u001b[0m\u001b[1;33m\u001b[0m\u001b[0m\n\u001b[0;32m      2\u001b[0m \u001b[0mDATA_TEST_PATH\u001b[0m \u001b[1;33m=\u001b[0m \u001b[1;34m'../data/test.csv'\u001b[0m \u001b[1;31m# TODO: download test data and supply path here\u001b[0m\u001b[1;33m\u001b[0m\u001b[1;33m\u001b[0m\u001b[0m\n\u001b[1;32m----> 3\u001b[1;33m \u001b[0m_\u001b[0m\u001b[1;33m,\u001b[0m \u001b[0mtX_test\u001b[0m\u001b[1;33m,\u001b[0m \u001b[0mids_test\u001b[0m \u001b[1;33m=\u001b[0m \u001b[0mload_csv_data\u001b[0m\u001b[1;33m(\u001b[0m\u001b[0mDATA_TEST_PATH\u001b[0m\u001b[1;33m)\u001b[0m\u001b[1;33m\u001b[0m\u001b[1;33m\u001b[0m\u001b[0m\n\u001b[0m",
      "\u001b[1;32m~\\Documents\\GitHub\\ML_project1\\scripts\\proj1_helpers.py\u001b[0m in \u001b[0;36mload_csv_data\u001b[1;34m(data_path, sub_sample)\u001b[0m\n\u001b[0;32m      7\u001b[0m \u001b[1;32mdef\u001b[0m \u001b[0mload_csv_data\u001b[0m\u001b[1;33m(\u001b[0m\u001b[0mdata_path\u001b[0m\u001b[1;33m,\u001b[0m \u001b[0msub_sample\u001b[0m\u001b[1;33m=\u001b[0m\u001b[1;32mFalse\u001b[0m\u001b[1;33m)\u001b[0m\u001b[1;33m:\u001b[0m\u001b[1;33m\u001b[0m\u001b[1;33m\u001b[0m\u001b[0m\n\u001b[0;32m      8\u001b[0m     \u001b[1;34m\"\"\"Loads data and returns y (class labels), tX (features) and ids (event ids)\"\"\"\u001b[0m\u001b[1;33m\u001b[0m\u001b[1;33m\u001b[0m\u001b[0m\n\u001b[1;32m----> 9\u001b[1;33m     \u001b[0my\u001b[0m \u001b[1;33m=\u001b[0m \u001b[0mnp\u001b[0m\u001b[1;33m.\u001b[0m\u001b[0mgenfromtxt\u001b[0m\u001b[1;33m(\u001b[0m\u001b[0mdata_path\u001b[0m\u001b[1;33m,\u001b[0m \u001b[0mdelimiter\u001b[0m\u001b[1;33m=\u001b[0m\u001b[1;34m\",\"\u001b[0m\u001b[1;33m,\u001b[0m \u001b[0mskip_header\u001b[0m\u001b[1;33m=\u001b[0m\u001b[1;36m1\u001b[0m\u001b[1;33m,\u001b[0m \u001b[0mdtype\u001b[0m\u001b[1;33m=\u001b[0m\u001b[0mstr\u001b[0m\u001b[1;33m,\u001b[0m \u001b[0musecols\u001b[0m\u001b[1;33m=\u001b[0m\u001b[1;36m1\u001b[0m\u001b[1;33m)\u001b[0m\u001b[1;33m\u001b[0m\u001b[1;33m\u001b[0m\u001b[0m\n\u001b[0m\u001b[0;32m     10\u001b[0m     \u001b[0mx\u001b[0m \u001b[1;33m=\u001b[0m \u001b[0mnp\u001b[0m\u001b[1;33m.\u001b[0m\u001b[0mgenfromtxt\u001b[0m\u001b[1;33m(\u001b[0m\u001b[0mdata_path\u001b[0m\u001b[1;33m,\u001b[0m \u001b[0mdelimiter\u001b[0m\u001b[1;33m=\u001b[0m\u001b[1;34m\",\"\u001b[0m\u001b[1;33m,\u001b[0m \u001b[0mskip_header\u001b[0m\u001b[1;33m=\u001b[0m\u001b[1;36m1\u001b[0m\u001b[1;33m)\u001b[0m\u001b[1;33m\u001b[0m\u001b[1;33m\u001b[0m\u001b[0m\n\u001b[0;32m     11\u001b[0m     \u001b[0mids\u001b[0m \u001b[1;33m=\u001b[0m \u001b[0mx\u001b[0m\u001b[1;33m[\u001b[0m\u001b[1;33m:\u001b[0m\u001b[1;33m,\u001b[0m \u001b[1;36m0\u001b[0m\u001b[1;33m]\u001b[0m\u001b[1;33m.\u001b[0m\u001b[0mastype\u001b[0m\u001b[1;33m(\u001b[0m\u001b[0mnp\u001b[0m\u001b[1;33m.\u001b[0m\u001b[0mint\u001b[0m\u001b[1;33m)\u001b[0m\u001b[1;33m\u001b[0m\u001b[1;33m\u001b[0m\u001b[0m\n",
      "\u001b[1;32m~\\anaconda3\\lib\\site-packages\\numpy\\lib\\npyio.py\u001b[0m in \u001b[0;36mgenfromtxt\u001b[1;34m(fname, dtype, comments, delimiter, skip_header, skip_footer, converters, missing_values, filling_values, usecols, names, excludelist, deletechars, replace_space, autostrip, case_sensitive, defaultfmt, unpack, usemask, loose, invalid_raise, max_rows, encoding)\u001b[0m\n\u001b[0;32m   1747\u001b[0m             \u001b[0mfname\u001b[0m \u001b[1;33m=\u001b[0m \u001b[0mos_fspath\u001b[0m\u001b[1;33m(\u001b[0m\u001b[0mfname\u001b[0m\u001b[1;33m)\u001b[0m\u001b[1;33m\u001b[0m\u001b[1;33m\u001b[0m\u001b[0m\n\u001b[0;32m   1748\u001b[0m         \u001b[1;32mif\u001b[0m \u001b[0misinstance\u001b[0m\u001b[1;33m(\u001b[0m\u001b[0mfname\u001b[0m\u001b[1;33m,\u001b[0m \u001b[0mstr\u001b[0m\u001b[1;33m)\u001b[0m\u001b[1;33m:\u001b[0m\u001b[1;33m\u001b[0m\u001b[1;33m\u001b[0m\u001b[0m\n\u001b[1;32m-> 1749\u001b[1;33m             \u001b[0mfid\u001b[0m \u001b[1;33m=\u001b[0m \u001b[0mnp\u001b[0m\u001b[1;33m.\u001b[0m\u001b[0mlib\u001b[0m\u001b[1;33m.\u001b[0m\u001b[0m_datasource\u001b[0m\u001b[1;33m.\u001b[0m\u001b[0mopen\u001b[0m\u001b[1;33m(\u001b[0m\u001b[0mfname\u001b[0m\u001b[1;33m,\u001b[0m \u001b[1;34m'rt'\u001b[0m\u001b[1;33m,\u001b[0m \u001b[0mencoding\u001b[0m\u001b[1;33m=\u001b[0m\u001b[0mencoding\u001b[0m\u001b[1;33m)\u001b[0m\u001b[1;33m\u001b[0m\u001b[1;33m\u001b[0m\u001b[0m\n\u001b[0m\u001b[0;32m   1750\u001b[0m             \u001b[0mfid_ctx\u001b[0m \u001b[1;33m=\u001b[0m \u001b[0mcontextlib\u001b[0m\u001b[1;33m.\u001b[0m\u001b[0mclosing\u001b[0m\u001b[1;33m(\u001b[0m\u001b[0mfid\u001b[0m\u001b[1;33m)\u001b[0m\u001b[1;33m\u001b[0m\u001b[1;33m\u001b[0m\u001b[0m\n\u001b[0;32m   1751\u001b[0m         \u001b[1;32melse\u001b[0m\u001b[1;33m:\u001b[0m\u001b[1;33m\u001b[0m\u001b[1;33m\u001b[0m\u001b[0m\n",
      "\u001b[1;32m~\\anaconda3\\lib\\site-packages\\numpy\\lib\\_datasource.py\u001b[0m in \u001b[0;36mopen\u001b[1;34m(path, mode, destpath, encoding, newline)\u001b[0m\n\u001b[0;32m    193\u001b[0m \u001b[1;33m\u001b[0m\u001b[0m\n\u001b[0;32m    194\u001b[0m     \u001b[0mds\u001b[0m \u001b[1;33m=\u001b[0m \u001b[0mDataSource\u001b[0m\u001b[1;33m(\u001b[0m\u001b[0mdestpath\u001b[0m\u001b[1;33m)\u001b[0m\u001b[1;33m\u001b[0m\u001b[1;33m\u001b[0m\u001b[0m\n\u001b[1;32m--> 195\u001b[1;33m     \u001b[1;32mreturn\u001b[0m \u001b[0mds\u001b[0m\u001b[1;33m.\u001b[0m\u001b[0mopen\u001b[0m\u001b[1;33m(\u001b[0m\u001b[0mpath\u001b[0m\u001b[1;33m,\u001b[0m \u001b[0mmode\u001b[0m\u001b[1;33m,\u001b[0m \u001b[0mencoding\u001b[0m\u001b[1;33m=\u001b[0m\u001b[0mencoding\u001b[0m\u001b[1;33m,\u001b[0m \u001b[0mnewline\u001b[0m\u001b[1;33m=\u001b[0m\u001b[0mnewline\u001b[0m\u001b[1;33m)\u001b[0m\u001b[1;33m\u001b[0m\u001b[1;33m\u001b[0m\u001b[0m\n\u001b[0m\u001b[0;32m    196\u001b[0m \u001b[1;33m\u001b[0m\u001b[0m\n\u001b[0;32m    197\u001b[0m \u001b[1;33m\u001b[0m\u001b[0m\n",
      "\u001b[1;32m~\\anaconda3\\lib\\site-packages\\numpy\\lib\\_datasource.py\u001b[0m in \u001b[0;36mopen\u001b[1;34m(self, path, mode, encoding, newline)\u001b[0m\n\u001b[0;32m    533\u001b[0m                                       encoding=encoding, newline=newline)\n\u001b[0;32m    534\u001b[0m         \u001b[1;32melse\u001b[0m\u001b[1;33m:\u001b[0m\u001b[1;33m\u001b[0m\u001b[1;33m\u001b[0m\u001b[0m\n\u001b[1;32m--> 535\u001b[1;33m             \u001b[1;32mraise\u001b[0m \u001b[0mIOError\u001b[0m\u001b[1;33m(\u001b[0m\u001b[1;34m\"%s not found.\"\u001b[0m \u001b[1;33m%\u001b[0m \u001b[0mpath\u001b[0m\u001b[1;33m)\u001b[0m\u001b[1;33m\u001b[0m\u001b[1;33m\u001b[0m\u001b[0m\n\u001b[0m\u001b[0;32m    536\u001b[0m \u001b[1;33m\u001b[0m\u001b[0m\n\u001b[0;32m    537\u001b[0m \u001b[1;33m\u001b[0m\u001b[0m\n",
      "\u001b[1;31mOSError\u001b[0m: ../data/test.csv not found."
     ]
    }
   ],
   "source": [
    "#Getting test-data\n",
    "DATA_TEST_PATH = '../data/test.csv' # TODO: download test data and supply path here \n",
    "_, tX_test, ids_test = load_csv_data(DATA_TEST_PATH)\n"
   ]
  },
  {
   "cell_type": "code",
   "execution_count": 55,
   "metadata": {},
   "outputs": [
    {
     "name": "stdout",
     "output_type": "stream",
     "text": [
      "Using a test-set. \n",
      " Returning clusterized dataset and squeezed indices. \n",
      "\n",
      "SHAPE (568238,)\n"
     ]
    }
   ],
   "source": [
    "#clustering\n",
    "test0, i0, test1, i1, test2, i2, test3, i3, =prijetnum_clustering(tX_test)\n",
    "\n",
    "tx_df0, idx_tk0 = delete_features(tx0)\n",
    "tx_df1, idx_tk1 = delete_features(tx1)\n",
    "tx_df2, idx_tk2 = delete_features(tx2)\n",
    "tx_df3, idx_tk3 = delete_features(tx3)\n",
    "\n",
    "#Preprocessing + Bias\n",
    "test0, _, _ = standardize(test0)\n",
    "test1, _, _ = standardize(test1)\n",
    "test2, _, _ = standardize(test2)\n",
    "test3, _, _ = standardize(test3)\n",
    "test0 = add_bias(test0)\n",
    "test1 = add_bias(test1)\n",
    "test2 = add_bias(test2)\n",
    "test3 = add_bias(test3)"
   ]
  },
  {
   "cell_type": "code",
   "execution_count": 58,
   "metadata": {},
   "outputs": [],
   "source": [
    "#Reexpansion of weight vector\n",
    "w0_opt = reexpand_w(w0_opt, idx_tk0)\n",
    "w1_opt = reexpand_w(w1_opt, idx_tk1)\n",
    "w2_opt = reexpand_w(w2_opt, idx_tk2)\n",
    "w3_opt = reexpand_w(w3_opt, idx_tk3)\n",
    "\n",
    "#ridge prediction\n",
    "ypredridge_0 = predict_labels(w0_opt,test0)\n",
    "ypredridge_1 = predict_labels(w1_opt,test1)\n",
    "ypredridge_2 = predict_labels(w2_opt,test2)\n",
    "ypredridge_3 = predict_labels(w3_opt,test3)\n",
    "\n",
    "ypred_ridge = np.ones(ids_test.shape[0])\n",
    "ypred_ridge[i0]=ypredridge_0\n",
    "ypred_ridge[i1]=ypredridge_1\n",
    "ypred_ridge[i2]=ypredridge_2\n",
    "ypred_ridge[i3]=ypredridge_3\n"
   ]
  },
  {
   "cell_type": "code",
   "execution_count": 69,
   "metadata": {},
   "outputs": [
    {
     "data": {
      "text/plain": [
       "(227458,)"
      ]
     },
     "execution_count": 69,
     "metadata": {},
     "output_type": "execute_result"
    }
   ],
   "source": [
    "np.squeeze(ypred_log0).shape"
   ]
  },
  {
   "cell_type": "code",
   "execution_count": 71,
   "metadata": {},
   "outputs": [],
   "source": [
    "#Log prediction\n",
    "#reexpansion of weight vector\n",
    "wlog_opt0 = reexpand_w(wlog_opt0, idx_tk0)\n",
    "wlog_opt1 = reexpand_w(wlog_opt1, idx_tk1)\n",
    "wlog_opt2 = reexpand_w(wlog_opt2, idx_tk2)\n",
    "wlog_opt3 = reexpand_w(wlog_opt3, idx_tk3)\n",
    "\n",
    "ypred_log0 = predict_labels_log(wlog_opt0,test0)\n",
    "ypred_log1 = predict_labels_log(wlog_opt1,test1)\n",
    "ypred_log2 = predict_labels_log(wlog_opt2,test2)\n",
    "ypred_log3 = predict_labels_log(wlog_opt3,test3)\n",
    "\n",
    "ypred_log = np.ones(ids_test.shape[0])\n",
    "ypred_log[i0]=ypred_log0\n",
    "ypred_log[i1]=ypred_log1\n",
    "ypred_log[i2]=ypred_log2\n",
    "ypred_log[i3]=ypred_log3\n"
   ]
  },
  {
   "cell_type": "code",
   "execution_count": 74,
   "metadata": {},
   "outputs": [],
   "source": [
    "OUTPUT_PATH = '../output/' # TODO: fill in desired name of output file for submission\n",
    "\n",
    "create_csv_submission(ids_test, ypred_ridge, OUTPUT_PATH+\"cluster_ridge.csv\")\n",
    "                      \n",
    "create_csv_submission(ids_test, ypred_log, OUTPUT_PATH+\"reguLogCluster.csv\")"
   ]
  },
  {
   "cell_type": "code",
   "execution_count": null,
   "metadata": {},
   "outputs": [],
   "source": []
  }
 ],
 "metadata": {
  "anaconda-cloud": {},
  "kernelspec": {
   "display_name": "Python 3",
   "language": "python",
   "name": "python3"
  },
  "language_info": {
   "codemirror_mode": {
    "name": "ipython",
    "version": 3
   },
   "file_extension": ".py",
   "mimetype": "text/x-python",
   "name": "python",
   "nbconvert_exporter": "python",
   "pygments_lexer": "ipython3",
   "version": "3.7.5"
  }
 },
 "nbformat": 4,
 "nbformat_minor": 4
}
