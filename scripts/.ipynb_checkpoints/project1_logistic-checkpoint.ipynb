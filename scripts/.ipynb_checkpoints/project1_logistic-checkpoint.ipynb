{
 "cells": [
  {
   "cell_type": "code",
   "execution_count": 1,
   "metadata": {},
   "outputs": [],
   "source": [
    "# Useful starting lines\n",
    "%timeit\n",
    "%matplotlib inline\n",
    "import numpy as np\n",
    "import matplotlib.pyplot as plt\n",
    "from implementations import *\n",
    "from proj1_helpers import *\n",
    "from preprocessing import *\n",
    "\n",
    "%load_ext autoreload\n",
    "%autoreload 2\n",
    "from proj1_helpers import *\n",
    "DATA_TRAIN_PATH = '../data/train.csv'\n",
    "y, tx_train, ids = load_csv_data(DATA_TRAIN_PATH)"
   ]
  },
  {
   "cell_type": "markdown",
   "metadata": {},
   "source": [
    "## Load the training data into feature matrix, class labels, and event ids:"
   ]
  },
  {
   "cell_type": "code",
   "execution_count": 4,
   "metadata": {},
   "outputs": [],
   "source": [
    "def convert_label(y):\n",
    "    \"\"\"converts the labels into 0 or 1 for log reg\"\"\"\n",
    "    #copy to prevent unwanted inplace value assignment\n",
    "    bin_y = y.copy()\n",
    "    #using fancy numpy indexing\n",
    "    bin_y[bin_y==-1]=0\n",
    "    return bin_y\n"
   ]
  },
  {
   "cell_type": "markdown",
   "metadata": {},
   "source": [
    "## Do your thing crazy machine learning thing here :) ..."
   ]
  },
  {
   "cell_type": "code",
   "execution_count": 59,
   "metadata": {},
   "outputs": [
    {
     "data": {
      "text/plain": [
       "(250000,)"
      ]
     },
     "execution_count": 59,
     "metadata": {},
     "output_type": "execute_result"
    }
   ],
   "source": [
    "y.shape"
   ]
  },
  {
   "cell_type": "code",
   "execution_count": 128,
   "metadata": {},
   "outputs": [
    {
     "name": "stdout",
     "output_type": "stream",
     "text": [
      "[[ 121.042   50.499   91.494   15.195 -999.   ]\n",
      " [ 121.831   42.365   94.031   78.354 -999.   ]\n",
      " [ 301.579   69.226  172.921   22.904 -999.   ]]\n"
     ]
    }
   ],
   "source": [
    "#Sampling, standardizing input\n",
    "y_normal, temp = sample_data(y,tx_train,n_samples)\n",
    "tx_normal, _, _ = standardize(temp)\n",
    "y_normal = convert_label(y_normal)\n",
    "\n",
    "y_sampled, tx_sampled = sample_data(y,tx_train,n_samples)\n",
    "y_sampled = convert_label(y_sampled)\n",
    "#confirm unbiased\n",
    "print(tx_sampled[0:3,0:5])"
   ]
  },
  {
   "cell_type": "code",
   "execution_count": 140,
   "metadata": {},
   "outputs": [
    {
     "name": "stdout",
     "output_type": "stream",
     "text": [
      "(30, 1)\n"
     ]
    }
   ],
   "source": [
    "#init values\n",
    "n_samples = 25000\n",
    "n_iters = 1500\n",
    "gamma = 1e-7\n",
    "w0 = np.random.randn(tx_sampled.shape[1],1)\n",
    "print(w0.shape)"
   ]
  },
  {
   "cell_type": "code",
   "execution_count": 144,
   "metadata": {},
   "outputs": [],
   "source": [
    "#adding bias\n",
    "tx_sampled_bias = np.c_[np.ones((y_sampled.shape[0], 1)), tx_sampled]\n",
    "tx_normal_bias = np.c_[np.ones((y_normal.shape[0], 1)), tx_normal]\n",
    "w0_bias = np.random.randn(tx_sampled_bias.shape[1],1)\n"
   ]
  },
  {
   "cell_type": "code",
   "execution_count": 145,
   "metadata": {},
   "outputs": [],
   "source": [
    "#4 OUTPUTS : \n",
    "#1) normal input, no bias\n",
    "w_log, loss, losses = logistic_regression(y_sampled,\n",
    "                                          tx_sampled,w0,\n",
    "                                          n_iters, gamma)\n",
    "#2) normalized input, no bias\n",
    "w_logstd, loss_std, losses_std = logistic_regression(y_normal,\n",
    "                                                    tx_normal,\n",
    "                                                    w0, n_iters,\n",
    "                                                    gamma)\n",
    "#3) normal input, with bias\n",
    "w_log_b, loss_b, losses_b = logistic_regression(y_sampled,\n",
    "                                          tx_sampled_bias,w0_bias,\n",
    "                                          n_iters, gamma)\n",
    "\n",
    "#4) normalized input, with bias\n",
    "w_logstd_b, loss_std_b, losses_std_b = logistic_regression(y_normal,\n",
    "                                                    tx_normal_bias,\n",
    "                                                    w0_bias, n_iters,\n",
    "                                                    gamma)\n"
   ]
  },
  {
   "cell_type": "code",
   "execution_count": 139,
   "metadata": {},
   "outputs": [
    {
     "data": {
      "text/plain": [
       "Text(0, 0.5, 'ITERATIONS')"
      ]
     },
     "execution_count": 139,
     "metadata": {},
     "output_type": "execute_result"
    },
    {
     "data": {
      "image/png": "[encoded data removed]",
      "text/plain": [
       "<Figure size 720x360 with 2 Axes>"
      ]
     },
     "metadata": {
      "needs_background": "light"
     },
     "output_type": "display_data"
    }
   ],
   "source": [
    "fig, axes = plt.subplots(2,2,figsize=(10,5),sharex =True)\n",
    "ax = axes.ravel\n",
    "ax[0].plot(losses)\n",
    "ax[0].set_title(\"loss, un_normalized data\")\n",
    "ax[1].plot(losses_std)\n",
    "ax[1].set_title(\"losses, normalized data\")\n",
    "ax[0].set_xlabel(\"ITERATIONS\")\n",
    "ax[0].set_ylabel(\"ITERATIONS\")\n",
    "\n",
    "ax[0].plot(losses_bias)\n",
    "ax[0].set_title(\"loss, un_normalized data BIASED\")\n",
    "ax[1].plot(losses_std_bias)\n",
    "ax[1].set_title(\"losses, normalized data BIASED\")\n",
    "ax[0].set_xlabel(\"ITERATIONS\")\n",
    "ax[0].set_ylabel(\"ITERATIONS\")"
   ]
  },
  {
   "cell_type": "markdown",
   "metadata": {},
   "source": [
    "## Generate predictions and save ouput in csv format for submission:"
   ]
  },
  {
   "cell_type": "code",
   "execution_count": 113,
   "metadata": {
    "collapsed": false,
    "jupyter": {
     "outputs_hidden": false
    }
   },
   "outputs": [],
   "source": [
    "DATA_TEST_PATH = '../data/test.csv' # TODO: download test data and supply path here \n",
    "_, tX_test, ids_test = load_csv_data(DATA_TEST_PATH)"
   ]
  },
  {
   "cell_type": "code",
   "execution_count": 114,
   "metadata": {},
   "outputs": [
    {
     "data": {
      "text/plain": [
       "(568238, 30)"
      ]
     },
     "execution_count": 114,
     "metadata": {},
     "output_type": "execute_result"
    }
   ],
   "source": [
    "tX_test.shape"
   ]
  },
  {
   "cell_type": "code",
   "execution_count": 26,
   "metadata": {},
   "outputs": [],
   "source": [
    "OUTPUT_PATH = '../output/' # TODO: fill in desired name of output file for submission\n",
    "y_pred = predict_labels(w_log.mean(1), tX_test)\n",
    "create_csv_submission(ids_test, y_pred, OUTPUT_PATH+\"logistic.csv\")"
   ]
  },
  {
   "cell_type": "code",
   "execution_count": null,
   "metadata": {
    "collapsed": true,
    "jupyter": {
     "outputs_hidden": true
    }
   },
   "outputs": [],
   "source": []
  }
 ],
 "metadata": {
  "anaconda-cloud": {},
  "kernelspec": {
   "display_name": "Python 3",
   "language": "python",
   "name": "python3"
  },
  "language_info": {
   "codemirror_mode": {
    "name": "ipython",
    "version": 3
   },
   "file_extension": ".py",
   "mimetype": "text/x-python",
   "name": "python",
   "nbconvert_exporter": "python",
   "pygments_lexer": "ipython3",
   "version": "3.7.5"
  }
 },
 "nbformat": 4,
 "nbformat_minor": 4
}
