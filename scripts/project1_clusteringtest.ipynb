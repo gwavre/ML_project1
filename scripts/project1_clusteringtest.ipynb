{
 "cells": [
  {
   "cell_type": "code",
   "execution_count": 1,
   "metadata": {},
   "outputs": [],
   "source": [
    "# Useful starting lines\n",
    "%timeit\n",
    "%matplotlib inline\n",
    "import numpy as np\n",
    "import matplotlib.pyplot as plt\n",
    "from implementations import *\n",
    "from preprocessing import *\n",
    "from train_tune import *\n",
    "#from proj1_helpers import *\n",
    "#from preprocessing import *\n",
    "%load_ext autoreload\n",
    "%autoreload 2"
   ]
  },
  {
   "cell_type": "code",
   "execution_count": 2,
   "metadata": {},
   "outputs": [],
   "source": [
    "DATA_TRAIN_PATH = '../data/train.csv'\n",
    "y, tx_train, ids = load_csv_data(DATA_TRAIN_PATH)"
   ]
  },
  {
   "cell_type": "markdown",
   "metadata": {},
   "source": [
    "## Load the training data into feature matrix, class labels, and event ids:"
   ]
  },
  {
   "cell_type": "markdown",
   "metadata": {},
   "source": [
    "## Do your thing crazy machine learning thing here :) ..."
   ]
  },
  {
   "cell_type": "markdown",
   "metadata": {},
   "source": [
    "Apparently replace -999 doesn't work properly so far."
   ]
  },
  {
   "cell_type": "code",
   "execution_count": 4,
   "metadata": {},
   "outputs": [
    {
     "name": "stdout",
     "output_type": "stream",
     "text": [
      "Using a test-set. \n",
      " Returning clusterized dataset and indices. \n",
      "\n",
      "Using a training set. \n",
      " Returning clusterized dataset and targets. \n",
      "\n"
     ]
    }
   ],
   "source": [
    "#Clustering\n",
    "tx0, y0, tx1, y1, tx2, y2, tx3, y3 = prijetnum_clustering(tx_train,y)\n",
    "#Naïve pre-processing.\n",
    "tx0, _, _ = standardize(tx0)\n",
    "tx1, _, _ = standardize(tx1)\n",
    "tx2, _, _ = standardize(tx2)\n",
    "tx3, _, _ = standardize(tx3)\n",
    "\n",
    "tx0 = add_bias(tx0)\n",
    "tx1 = add_bias(tx1)\n",
    "tx2 = add_bias(tx2)\n",
    "tx3 = add_bias(tx3)\n",
    "\n",
    "lambda_ = 3e-4"
   ]
  },
  {
   "cell_type": "code",
   "execution_count": 28,
   "metadata": {},
   "outputs": [
    {
     "name": "stdout",
     "output_type": "stream",
     "text": [
      "Best lambda_0 :  1e-09\n",
      "Best lambda_1 :  1e-09\n",
      "Best lambda_2 :  1e-09\n",
      "Best lambda_3 :  1e-09\n"
     ]
    },
    {
     "data": {
      "image/png": "[encoded data removed]",
      "text/plain": [
       "<Figure size 432x288 with 1 Axes>"
      ]
     },
     "metadata": {
      "needs_background": "light"
     },
     "output_type": "display_data"
    }
   ],
   "source": [
    "#Prediction with Ridge\n",
    "losses0 = []\n",
    "losses1 = []\n",
    "losses2 = []\n",
    "losses3 = []\n",
    "\n",
    "space = np.logspace(-9,-1,60)\n",
    "for lambda_ in space:\n",
    "    w0, loss0 = ridge_regression(y0, tx0, lambda_)\n",
    "    w1, loss1 = ridge_regression(y1, tx1, lambda_)\n",
    "    w2, loss2 = ridge_regression(y2, tx2, lambda_)\n",
    "    w3, loss3 = ridge_regression(y3, tx3, lambda_)\n",
    "    losses0.append(loss0)\n",
    "    losses1.append(loss1)\n",
    "    losses2.append(loss2)\n",
    "    losses3.append(loss3)\n",
    "    #print(\"Lambda_ :{:7f} \\n Losses : 1) {} \\n 2) {} \\n 3) {} \\n 4) {}\".format(lambda_,loss0,loss1,loss2,loss3))\n",
    "\n",
    "print(\"Best lambda_0 : \",space[np.argmin(losses0)])\n",
    "print(\"Best lambda_1 : \",space[np.argmin(losses1)])\n",
    "print(\"Best lambda_2 : \",space[np.argmin(losses2)])\n",
    "print(\"Best lambda_3 : \",space[np.argmin(losses3)])\n",
    "plt.semilogx(losses0)\n",
    "plt.semilogx(losses1)\n",
    "plt.semilogx(losses2)\n",
    "plt.semilogx(losses3)\n",
    "#Getting the best ridge weights (so far on this naïve set without anything)\n",
    "w0_opt, _ = ridge_regression(y0, tx0, space[np.argmin(losses0)])\n",
    "w1_opt, _ = ridge_regression(y1, tx1, space[np.argmin(losses1)])\n",
    "w2_opt, _ = ridge_regression(y2, tx2, space[np.argmin(losses2)])\n",
    "w3_opt, _ = ridge_regression(y3, tx3, space[np.argmin(losses3)])"
   ]
  },
  {
   "cell_type": "code",
   "execution_count": 35,
   "metadata": {},
   "outputs": [],
   "source": [
    "##### Testing with Regulog only biased input\n",
    "initial_w = np.random.randn(31,1)\n",
    "ylog0 = convert_label(y0)\n",
    "ylog1 = convert_label(y1)\n",
    "ylog2 = convert_label(y2)\n",
    "ylog3 = convert_label(y3)\n",
    "n_iters = 500\n",
    "gamma = 1e-6\n",
    "logspace = np.logspace(-9,-1,3)\n",
    "\n",
    "loglosses0 = []\n",
    "loglosses1 = []\n",
    "loglosses2 = []\n",
    "loglosses3 = []\n",
    "\n",
    "for lambda_ in logspace:\n",
    "    wlog0, logloss0, lossgraph0 = reg_logistic_regression(ylog0, tx0, lambda_, \n",
    "                                                          initial_w, n_iters, gamma)\n",
    "    wlog1, logloss1, lossgraph1 = reg_logistic_regression(ylog1, tx1, lambda_, \n",
    "                                                          initial_w, n_iters, gamma)\n",
    "    wlog2, logloss2, lossgraph2 = reg_logistic_regression(ylog2, tx2, lambda_, \n",
    "                                                          initial_w, n_iters, gamma)\n",
    "    wlog3, logloss3, lossgraph3 = reg_logistic_regression(ylog2, tx2, lambda_, \n",
    "                                                          initial_w, n_iters, gamma)\n",
    "    loglosses0.append(logloss0)\n",
    "    loglosses1.append(logloss1)\n",
    "    loglosses2.append(logloss2)\n",
    "    loglosses3.append(logloss3)\n",
    "\n"
   ]
  },
  {
   "cell_type": "code",
   "execution_count": 44,
   "metadata": {},
   "outputs": [],
   "source": [
    "wlog_opt0, _, lossgraph0 = reg_logistic_regression(ylog0,tx0,logspace[np.argmin(loglosses0)], initial_w,1500,3e-6)\n",
    "wlog_opt1, _, lossgraph1 = reg_logistic_regression(ylog1,tx1,logspace[np.argmin(loglosses1)], initial_w,1500,3e-6)    \n",
    "wlog_opt2, _, lossgraph2 = reg_logistic_regression(ylog2,tx2,logspace[np.argmin(loglosses2)], initial_w,1500,1e-5)    \n",
    "wlog_opt3, _, lossgraph3 = reg_logistic_regression(ylog3,tx3,logspace[np.argmin(loglosses3)], initial_w,1500,1e-5)"
   ]
  },
  {
   "cell_type": "code",
   "execution_count": 45,
   "metadata": {},
   "outputs": [
    {
     "data": {
      "text/plain": [
       "Text(0.5, 1.0, 'lossgraph for cluster 3')"
      ]
     },
     "execution_count": 45,
     "metadata": {},
     "output_type": "execute_result"
    },
    {
     "data": {
      "image/png": "[encoded data removed]",
      "text/plain": [
       "<Figure size 720x576 with 4 Axes>"
      ]
     },
     "metadata": {
      "needs_background": "light"
     },
     "output_type": "display_data"
    }
   ],
   "source": [
    "fig, axes = plt.subplots(2,2,figsize=(10,8),sharex =True)\n",
    "ax = axes.ravel()\n",
    "ax[0].plot(lossgraph0)\n",
    "ax[1].plot(lossgraph1)\n",
    "ax[2].plot(lossgraph2)\n",
    "ax[3].plot(lossgraph3)\n",
    "ax[0].set_title(\"lossgraph for cluster 0\")\n",
    "ax[1].set_title(\"lossgraph for cluster 1\")\n",
    "ax[2].set_title(\"lossgraph for cluster 2\")\n",
    "ax[3].set_title(\"lossgraph for cluster 3\")"
   ]
  },
  {
   "cell_type": "markdown",
   "metadata": {},
   "source": [
    "## Generate predictions and save ouput in csv format for submission:"
   ]
  },
  {
   "cell_type": "code",
   "execution_count": 50,
   "metadata": {},
   "outputs": [],
   "source": [
    "#Getting test-data\n",
    "DATA_TEST_PATH = '../data/test.csv' # TODO: download test data and supply path here \n",
    "_, tX_test, ids_test = load_csv_data(DATA_TEST_PATH)\n"
   ]
  },
  {
   "cell_type": "code",
   "execution_count": 55,
   "metadata": {},
   "outputs": [
    {
     "name": "stdout",
     "output_type": "stream",
     "text": [
      "Using a test-set. \n",
      " Returning clusterized dataset and squeezed indices. \n",
      "\n",
      "SHAPE (568238,)\n"
     ]
    }
   ],
   "source": [
    "test0, i0, test1, i1, test2, i2, test3, i3, =prijetnum_clustering(tX_test)\n",
    "#Preprocessing + Bias\n",
    "test0, _, _ = standardize(test0)\n",
    "test1, _, _ = standardize(test1)\n",
    "test2, _, _ = standardize(test2)\n",
    "test3, _, _ = standardize(test3)\n",
    "test0 = add_bias(test0)\n",
    "test1 = add_bias(test1)\n",
    "test2 = add_bias(test2)\n",
    "test3 = add_bias(test3)"
   ]
  },
  {
   "cell_type": "code",
   "execution_count": 58,
   "metadata": {},
   "outputs": [],
   "source": [
    "#ridge prediction\n",
    "ypredridge_0 = predict_labels(w0_opt,test0)\n",
    "ypredridge_1 = predict_labels(w1_opt,test1)\n",
    "ypredridge_2 = predict_labels(w2_opt,test2)\n",
    "ypredridge_3 = predict_labels(w3_opt,test3)\n",
    "\n",
    "ypred_ridge = np.ones(ids_test.shape[0])\n",
    "ypred_ridge[i0]=ypredridge_0\n",
    "ypred_ridge[i1]=ypredridge_1\n",
    "ypred_ridge[i2]=ypredridge_2\n",
    "ypred_ridge[i3]=ypredridge_3\n"
   ]
  },
  {
   "cell_type": "code",
   "execution_count": 69,
   "metadata": {},
   "outputs": [
    {
     "data": {
      "text/plain": [
       "(227458,)"
      ]
     },
     "execution_count": 69,
     "metadata": {},
     "output_type": "execute_result"
    }
   ],
   "source": [
    "np.squeeze(ypred_log0).shape"
   ]
  },
  {
   "cell_type": "code",
   "execution_count": 71,
   "metadata": {},
   "outputs": [],
   "source": [
    "#Log prediction\n",
    "ypred_log0 = predict_labels_log(wlog_opt0,test0)\n",
    "ypred_log1 = predict_labels_log(wlog_opt1,test1)\n",
    "ypred_log2 = predict_labels_log(wlog_opt2,test2)\n",
    "ypred_log3 = predict_labels_log(wlog_opt3,test3)\n",
    "\n",
    "ypred_log = np.ones(ids_test.shape[0])\n",
    "ypred_log[i0]=ypred_log0\n",
    "ypred_log[i1]=ypred_log1\n",
    "ypred_log[i2]=ypred_log2\n",
    "ypred_log[i3]=ypred_log3\n"
   ]
  },
  {
   "cell_type": "code",
   "execution_count": 74,
   "metadata": {},
   "outputs": [],
   "source": [
    "OUTPUT_PATH = '../output/' # TODO: fill in desired name of output file for submission\n",
    "\n",
    "create_csv_submission(ids_test, ypred_ridge, OUTPUT_PATH+\"cluster_ridge.csv\")\n",
    "                      \n",
    "create_csv_submission(ids_test, ypred_log, OUTPUT_PATH+\"reguLogCluster.csv\")"
   ]
  },
  {
   "cell_type": "code",
   "execution_count": null,
   "metadata": {},
   "outputs": [],
   "source": []
  }
 ],
 "metadata": {
  "anaconda-cloud": {},
  "kernelspec": {
   "display_name": "Python 3",
   "language": "python",
   "name": "python3"
  },
  "language_info": {
   "codemirror_mode": {
    "name": "ipython",
    "version": 3
   },
   "file_extension": ".py",
   "mimetype": "text/x-python",
   "name": "python",
   "nbconvert_exporter": "python",
   "pygments_lexer": "ipython3",
   "version": "3.7.5"
  }
 },
 "nbformat": 4,
 "nbformat_minor": 4
}
